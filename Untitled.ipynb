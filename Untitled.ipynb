{
 "cells": [
  {
   "cell_type": "code",
   "execution_count": 1,
   "metadata": {},
   "outputs": [],
   "source": [
    "import re"
   ]
  },
  {
   "cell_type": "code",
   "execution_count": 2,
   "metadata": {},
   "outputs": [],
   "source": [
    "example = 'Я пришла на каток, а там был котик! Я люблю котиков, а этот был очень милый. Уруру, котеек!'"
   ]
  },
  {
   "cell_type": "code",
   "execution_count": 11,
   "metadata": {},
   "outputs": [
    {
     "name": "stdout",
     "output_type": "stream",
     "text": [
      "['котик', 'котиков', 'котеек']\n"
     ]
    }
   ],
   "source": [
    "allcats = re.findall(r'кот[^x]\\w+', 'Я пришла на каток, а там был котик! Я люблю котиков, а этот был очень милый. Уруру, котеек!')\n",
    "print(allcats)"
   ]
  },
  {
   "cell_type": "code",
   "execution_count": 12,
   "metadata": {},
   "outputs": [],
   "source": [
    "example2 = '23.07.1995, 223.56.1212 qqq 45.14.2019 qwqwr 01.08.1992'"
   ]
  },
  {
   "cell_type": "code",
   "execution_count": 58,
   "metadata": {},
   "outputs": [
    {
     "name": "stdout",
     "output_type": "stream",
     "text": [
      "[('23', '07', '1995'), ('01', '08', '1992')]\n"
     ]
    }
   ],
   "source": [
    "alldates = re.findall(r'([0-2]\\d|3[01])\\.(0\\d|1[012])\\.(\\d{4})', '23.07.1995, 223.56.1212 qqq 45.14.2019 qwqwr 01.08.1992')\n",
    "print(alldates)"
   ]
  },
  {
   "cell_type": "code",
   "execution_count": 59,
   "metadata": {},
   "outputs": [],
   "source": [
    "example3 = '1243 12kjn3'"
   ]
  },
  {
   "cell_type": "code",
   "execution_count": 67,
   "metadata": {},
   "outputs": [
    {
     "name": "stdout",
     "output_type": "stream",
     "text": [
      "['1243', '12kjn3']\n"
     ]
    }
   ],
   "source": [
    "allseqs = re.findall(r'\\w+[3]\\b', '1243 12kjn3')\n",
    "print(allseqs)"
   ]
  },
  {
   "cell_type": "code",
   "execution_count": null,
   "metadata": {},
   "outputs": [],
   "source": []
  }
 ],
 "metadata": {
  "kernelspec": {
   "display_name": "Python 3",
   "language": "python",
   "name": "python3"
  },
  "language_info": {
   "codemirror_mode": {
    "name": "ipython",
    "version": 3
   },
   "file_extension": ".py",
   "mimetype": "text/x-python",
   "name": "python",
   "nbconvert_exporter": "python",
   "pygments_lexer": "ipython3",
   "version": "3.6.5"
  }
 },
 "nbformat": 4,
 "nbformat_minor": 2
}
