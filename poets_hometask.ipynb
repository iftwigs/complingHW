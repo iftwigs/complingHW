{
 "cells": [
  {
   "cell_type": "code",
   "execution_count": 1,
   "metadata": {},
   "outputs": [],
   "source": [
    "import os\n",
    "poets = {\n",
    "    'Пушкин':\n",
    "        \"\"\"Духовной жаждою томим,\n",
    "        В пустыне мрачной я влачился, —\n",
    "        И шестикрылый серафим\n",
    "        На перепутье мне явился.\"\"\",\n",
    "    'Пастернак':\n",
    "        \"\"\"Гул затих. Я вышел на подмостки.\n",
    "        Прислонясь к дверному косяку,\n",
    "        Я ловлю в далеком отголоске,\n",
    "        Что случится на моем веку.\n",
    "            \"\"\",\n",
    "    'Тарковский':\n",
    "        \"\"\"Был домик в три оконца \n",
    "        В такой окрашен цвет, \n",
    "        Что даже в спектре солнца \n",
    "        Такого цвета нет. \n",
    "        Он был ещё спектральней, \n",
    "        Зелёный до того, \n",
    "        Что я в окошко спальни \n",
    "        Молился на него. \n",
    "         \"\"\",\n",
    "    'Мандельштам':\n",
    "        \"\"\"Я вернулся в мой город, знакомый до слёз,\n",
    "        До прожилок, до детских припухлых желёз.\n",
    "\n",
    "        Ты вернулся сюда, так глотай же скорей\n",
    "        Рыбий жир ленинградских речных фонарей\"\"\"\n",
    "}"
   ]
  },
  {
   "cell_type": "code",
   "execution_count": 9,
   "metadata": {},
   "outputs": [],
   "source": [
    "def getletter(name):\n",
    "    l = name[0].lower()\n",
    "    return l\n",
    "\n",
    "def main(poets, d): \n",
    "    for p in poets.keys(): \n",
    "        l = getletter(p) \n",
    "        newfol = dirs(d,l) \n",
    "        fname = changename(newfol, p) \n",
    "        save(poets[p], fname)\n",
    "\n",
    "def dirs(d, l):\n",
    "    newfol = d + '/' + l \n",
    "    if l not in os.listdir(d):\n",
    "        os.mkdir(newfol)\n",
    "    return newfol\n",
    "\n",
    "def changename(path_to_file, name_of_poet):\n",
    "    n = path_to_file + '//' + name_of_poet + '.txt'\n",
    "    return n\n",
    "\n",
    "def save(text, fname): \n",
    "    with open(fname, 'w', encoding = 'utf-8') as auf:\n",
    "        auf.write(text)\n",
    "    return \"success\"\n",
    "\n",
    "main(poets,'/Users/macbookpro/Downloads/new')"
   ]
  }
 ],
 "metadata": {
  "kernelspec": {
   "display_name": "Python 3",
   "language": "python",
   "name": "python3"
  },
  "language_info": {
   "codemirror_mode": {
    "name": "ipython",
    "version": 3
   },
   "file_extension": ".py",
   "mimetype": "text/x-python",
   "name": "python",
   "nbconvert_exporter": "python",
   "pygments_lexer": "ipython3",
   "version": "3.6.5"
  }
 },
 "nbformat": 4,
 "nbformat_minor": 2
}
