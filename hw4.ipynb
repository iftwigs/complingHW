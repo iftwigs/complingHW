{
 "cells": [
  {
   "cell_type": "markdown",
   "metadata": {},
   "source": [
    "# Домашнее задание 4 (большое)\n",
    "\n",
    "Дедлайн: четверг, 23:59."
   ]
  },
  {
   "cell_type": "markdown",
   "metadata": {},
   "source": [
    "## Часть 1: кластеризация (5 баллов)\n",
    "\n",
    "Скачайте данные (в следующем письме на почте). NB: это совсем не тот датасет из ленты, который мы использовали в семинаре!"
   ]
  },
  {
   "cell_type": "code",
   "execution_count": 1,
   "metadata": {},
   "outputs": [],
   "source": [
    "import pandas as pd\n",
    "from __future__ import unicode_literals\n",
    "from nltk.corpus import stopwords\n",
    "from nltk import word_tokenize\n",
    "from nltk.corpus import stopwords\n",
    "import re"
   ]
  },
  {
   "cell_type": "code",
   "execution_count": 2,
   "metadata": {},
   "outputs": [],
   "source": [
    "lenta_df = pd.read_csv('lenta_cropped_2.csv')"
   ]
  },
  {
   "cell_type": "code",
   "execution_count": 3,
   "metadata": {},
   "outputs": [
    {
     "data": {
      "text/plain": [
       "42468"
      ]
     },
     "execution_count": 3,
     "metadata": {},
     "output_type": "execute_result"
    }
   ],
   "source": [
    "len(lenta_df)"
   ]
  },
  {
   "cell_type": "code",
   "execution_count": 4,
   "metadata": {},
   "outputs": [
    {
     "data": {
      "text/html": [
       "<div>\n",
       "<style scoped>\n",
       "    .dataframe tbody tr th:only-of-type {\n",
       "        vertical-align: middle;\n",
       "    }\n",
       "\n",
       "    .dataframe tbody tr th {\n",
       "        vertical-align: top;\n",
       "    }\n",
       "\n",
       "    .dataframe thead th {\n",
       "        text-align: right;\n",
       "    }\n",
       "</style>\n",
       "<table border=\"1\" class=\"dataframe\">\n",
       "  <thead>\n",
       "    <tr style=\"text-align: right;\">\n",
       "      <th></th>\n",
       "      <th>text</th>\n",
       "    </tr>\n",
       "  </thead>\n",
       "  <tbody>\n",
       "    <tr>\n",
       "      <th>0</th>\n",
       "      <td>Россия, отказавшись от серийного производства ...</td>\n",
       "    </tr>\n",
       "    <tr>\n",
       "      <th>1</th>\n",
       "      <td>Исследователи из Университета штата Иллинойс (...</td>\n",
       "    </tr>\n",
       "    <tr>\n",
       "      <th>2</th>\n",
       "      <td>В турецкой больнице скончался 57-летний украин...</td>\n",
       "    </tr>\n",
       "    <tr>\n",
       "      <th>3</th>\n",
       "      <td>Девушку нашли живой через неделю после того, к...</td>\n",
       "    </tr>\n",
       "    <tr>\n",
       "      <th>4</th>\n",
       "      <td>Нескольких пьяных пассажиров сняли с ночного р...</td>\n",
       "    </tr>\n",
       "  </tbody>\n",
       "</table>\n",
       "</div>"
      ],
      "text/plain": [
       "                                                text\n",
       "0  Россия, отказавшись от серийного производства ...\n",
       "1  Исследователи из Университета штата Иллинойс (...\n",
       "2  В турецкой больнице скончался 57-летний украин...\n",
       "3  Девушку нашли живой через неделю после того, к...\n",
       "4  Нескольких пьяных пассажиров сняли с ночного р..."
      ]
     },
     "execution_count": 4,
     "metadata": {},
     "output_type": "execute_result"
    }
   ],
   "source": [
    "lenta_df.head()"
   ]
  },
  {
   "cell_type": "markdown",
   "metadata": {},
   "source": [
    "* Постройте две разные модели кластеризации с 4 кластерами (модели должны отличаться только на `random_state`)\n",
    "* По их меткам (`model.labels_`) найдите `adjusted_rand_score`.\n",
    "* Постройте другие две модели (с другими параметрами модели или векторизатора, или другим способом векторизации текста способ векторизации).\n",
    "* Посчитайте `adjusted_rand_score` для них тоже."
   ]
  },
  {
   "cell_type": "code",
   "execution_count": 5,
   "metadata": {},
   "outputs": [],
   "source": [
    "from sklearn.feature_extraction.text import CountVectorizer, TfidfVectorizer\n",
    "from sklearn.cluster import KMeans"
   ]
  },
  {
   "cell_type": "code",
   "execution_count": 6,
   "metadata": {},
   "outputs": [],
   "source": [
    "def tokenize(msg):\n",
    "    msg = re.sub('[!\"?/\\\\()«»—.:;,-]', '', msg).lower()\n",
    "    msg = [w for w in word_tokenize(msg) if not w in stopset] \n",
    "    return msg"
   ]
  },
  {
   "cell_type": "code",
   "execution_count": 7,
   "metadata": {},
   "outputs": [],
   "source": [
    "stopset = stopwords.words('russian')"
   ]
  },
  {
   "cell_type": "code",
   "execution_count": 8,
   "metadata": {},
   "outputs": [],
   "source": [
    "bow_tfidf = TfidfVectorizer(tokenizer=tokenize)\n",
    "bowed_news = bow_tfidf.fit_transform(lenta_df['text'])"
   ]
  },
  {
   "cell_type": "code",
   "execution_count": 9,
   "metadata": {},
   "outputs": [
    {
     "data": {
      "text/plain": [
       "KMeans(algorithm='auto', copy_x=True, init='k-means++', max_iter=100,\n",
       "    n_clusters=4, n_init=1, n_jobs=1, precompute_distances='auto',\n",
       "    random_state=37, tol=0.0001, verbose=0)"
      ]
     },
     "execution_count": 9,
     "metadata": {},
     "output_type": "execute_result"
    }
   ],
   "source": [
    "model = KMeans(n_clusters=4, init='k-means++', max_iter=100, n_init=1, random_state=37)\n",
    "model.fit(bowed_news)"
   ]
  },
  {
   "cell_type": "code",
   "execution_count": 10,
   "metadata": {},
   "outputs": [
    {
     "data": {
      "text/plain": [
       "KMeans(algorithm='auto', copy_x=True, init='k-means++', max_iter=100,\n",
       "    n_clusters=4, n_init=1, n_jobs=1, precompute_distances='auto',\n",
       "    random_state=42, tol=0.0001, verbose=0)"
      ]
     },
     "execution_count": 10,
     "metadata": {},
     "output_type": "execute_result"
    }
   ],
   "source": [
    "model2 = KMeans(n_clusters=4, init='k-means++', max_iter=100, n_init=1, random_state=42)\n",
    "model2.fit(bowed_news)"
   ]
  },
  {
   "cell_type": "code",
   "execution_count": 11,
   "metadata": {},
   "outputs": [],
   "source": [
    "from sklearn.metrics import adjusted_rand_score"
   ]
  },
  {
   "cell_type": "code",
   "execution_count": 12,
   "metadata": {},
   "outputs": [
    {
     "data": {
      "text/plain": [
       "array([1, 0, 1, ..., 3, 1, 1], dtype=int32)"
      ]
     },
     "execution_count": 12,
     "metadata": {},
     "output_type": "execute_result"
    }
   ],
   "source": [
    "# это метки кластеров первой модели\n",
    "# в том же порядке, в котором тексты в датафрейме\n",
    "model.labels_\n",
    "model2.labels_"
   ]
  },
  {
   "cell_type": "code",
   "execution_count": 13,
   "metadata": {},
   "outputs": [
    {
     "data": {
      "text/plain": [
       "0.6425444745386302"
      ]
     },
     "execution_count": 13,
     "metadata": {},
     "output_type": "execute_result"
    }
   ],
   "source": [
    "adjusted_rand_score(model.labels_, model2.labels_)"
   ]
  },
  {
   "cell_type": "code",
   "execution_count": 14,
   "metadata": {},
   "outputs": [
    {
     "data": {
      "text/plain": [
       "KMeans(algorithm='auto', copy_x=True, init='k-means++', max_iter=100,\n",
       "    n_clusters=3, n_init=1, n_jobs=1, precompute_distances='auto',\n",
       "    random_state=33, tol=0.0001, verbose=0)"
      ]
     },
     "execution_count": 14,
     "metadata": {},
     "output_type": "execute_result"
    }
   ],
   "source": [
    "model3 = KMeans(n_clusters=3, init='k-means++', max_iter=100, n_init=1, random_state=33)\n",
    "model3.fit(bowed_news)"
   ]
  },
  {
   "cell_type": "code",
   "execution_count": 15,
   "metadata": {},
   "outputs": [
    {
     "data": {
      "text/plain": [
       "KMeans(algorithm='auto', copy_x=True, init='k-means++', max_iter=100,\n",
       "    n_clusters=3, n_init=1, n_jobs=1, precompute_distances='auto',\n",
       "    random_state=22, tol=0.0001, verbose=0)"
      ]
     },
     "execution_count": 15,
     "metadata": {},
     "output_type": "execute_result"
    }
   ],
   "source": [
    "model4 = KMeans(n_clusters=3, init='k-means++', max_iter=100, n_init=1, random_state=22)\n",
    "model4.fit(bowed_news)"
   ]
  },
  {
   "cell_type": "code",
   "execution_count": 16,
   "metadata": {},
   "outputs": [
    {
     "data": {
      "text/plain": [
       "0.9970110218871997"
      ]
     },
     "execution_count": 16,
     "metadata": {},
     "output_type": "execute_result"
    }
   ],
   "source": [
    "adjusted_rand_score(model3.labels_, model4.labels_)"
   ]
  },
  {
   "cell_type": "markdown",
   "metadata": {},
   "source": [
    "* Для текстов двух кластеров (любой модели) постройте `wordcloud` (для каждого свой). [Туториал по wordcloud](https://www.geeksforgeeks.org/generating-word-cloud-python/).<br>\n",
    "(`pip3 install wordcloud`)\n",
    "* Сделайте предположение, какие темы затрагиваются в этих кластерах"
   ]
  },
  {
   "cell_type": "code",
   "execution_count": 17,
   "metadata": {},
   "outputs": [
    {
     "name": "stdout",
     "output_type": "stream",
     "text": [
      "Top terms per cluster:\n",
      "Cluster 0:\n",
      " ученые\n",
      " лет\n",
      " журнале\n",
      " ученых\n",
      " исследователи\n",
      " университета\n",
      " это\n",
      " которые\n",
      " исследования\n",
      " исследование\n",
      "Cluster 1:\n",
      " apple\n",
      " игры\n",
      " iphone\n",
      " компания\n",
      " игра\n",
      " года\n",
      " google\n",
      " windows\n",
      " xbox\n",
      " microsoft\n",
      "Cluster 2:\n",
      " сообщает\n",
      " года\n",
      " году\n",
      " время\n",
      " the\n",
      " также\n",
      " тысяч\n",
      " это\n",
      " который\n",
      " мужчина\n",
      "Cluster 3:\n",
      " россии\n",
      " года\n",
      " процентов\n",
      " году\n",
      " рублей\n",
      " также\n",
      " мкс\n",
      " сша\n",
      " ракеты\n",
      " туристов\n"
     ]
    }
   ],
   "source": [
    "print(\"Top terms per cluster:\")\n",
    "order_centroids = model.cluster_centers_.argsort()[:, ::-1]\n",
    "terms = bow_tfidf.get_feature_names()\n",
    "for i in range(4):\n",
    "        print(\"Cluster %d:\" % i),\n",
    "        for ind in order_centroids[i, :10]:\n",
    "            print(' %s' % terms[ind])"
   ]
  },
  {
   "cell_type": "markdown",
   "metadata": {},
   "source": [
    "Из полученных данных можно сделать вывод, что в первом кластере речь идет о каких-то исследованиях и науке, во втором — об играх на различные платформы, в третьем определить тему оказалось затруднительно, а в четвертом речь идет о военно-воздушных силах, полетах на ракетах и самолетах."
   ]
  },
  {
   "cell_type": "markdown",
   "metadata": {},
   "source": [
    "#### Как достать тексты кластера с номером 3:"
   ]
  },
  {
   "cell_type": "code",
   "execution_count": 18,
   "metadata": {},
   "outputs": [
    {
     "data": {
      "text/plain": [
       "[0, 7, 10, 23, 26, 33, 36, 37, 53, 55]"
      ]
     },
     "execution_count": 18,
     "metadata": {},
     "output_type": "execute_result"
    }
   ],
   "source": [
    "# обходим все метки кластеров и записываем индексы тех, которые равны 3\n",
    "third_cluster_indices = [ind for ind, label in enumerate(model.labels_) if label == 3]\n",
    "third_cluster_indices[:10]"
   ]
  },
  {
   "cell_type": "code",
   "execution_count": 19,
   "metadata": {},
   "outputs": [
    {
     "data": {
      "text/html": [
       "<div>\n",
       "<style scoped>\n",
       "    .dataframe tbody tr th:only-of-type {\n",
       "        vertical-align: middle;\n",
       "    }\n",
       "\n",
       "    .dataframe tbody tr th {\n",
       "        vertical-align: top;\n",
       "    }\n",
       "\n",
       "    .dataframe thead th {\n",
       "        text-align: right;\n",
       "    }\n",
       "</style>\n",
       "<table border=\"1\" class=\"dataframe\">\n",
       "  <thead>\n",
       "    <tr style=\"text-align: right;\">\n",
       "      <th></th>\n",
       "      <th>text</th>\n",
       "    </tr>\n",
       "  </thead>\n",
       "  <tbody>\n",
       "    <tr>\n",
       "      <th>0</th>\n",
       "      <td>Россия, отказавшись от серийного производства ...</td>\n",
       "    </tr>\n",
       "    <tr>\n",
       "      <th>7</th>\n",
       "      <td>Американский телеканал CNBC со ссылкой на свои...</td>\n",
       "    </tr>\n",
       "    <tr>\n",
       "      <th>10</th>\n",
       "      <td>Американский журнал National Interest заявил, ...</td>\n",
       "    </tr>\n",
       "    <tr>\n",
       "      <th>23</th>\n",
       "      <td>Американские военные 12 июля 2018 года взорвал...</td>\n",
       "    </tr>\n",
       "    <tr>\n",
       "      <th>26</th>\n",
       "      <td>«Роскосмос» и предприятия ракетно-космической ...</td>\n",
       "    </tr>\n",
       "  </tbody>\n",
       "</table>\n",
       "</div>"
      ],
      "text/plain": [
       "                                                 text\n",
       "0   Россия, отказавшись от серийного производства ...\n",
       "7   Американский телеканал CNBC со ссылкой на свои...\n",
       "10  Американский журнал National Interest заявил, ...\n",
       "23  Американские военные 12 июля 2018 года взорвал...\n",
       "26  «Роскосмос» и предприятия ракетно-космической ..."
      ]
     },
     "execution_count": 19,
     "metadata": {},
     "output_type": "execute_result"
    }
   ],
   "source": [
    "# достаём соответствующие строки\n",
    "third_cluster_rows = lenta_df.iloc[third_cluster_indices]\n",
    "third_cluster_rows.head()"
   ]
  },
  {
   "cell_type": "code",
   "execution_count": 23,
   "metadata": {},
   "outputs": [
    {
     "name": "stdout",
     "output_type": "stream",
     "text": [
      "Россия, отказавшись от серийного производства Cу-57, фактически признала поражение в возможности создания истребителя пятого поколения, пишет Business Insider. «Россия более или менее признает поражение в создании возможного истребителя пятого поколения», — заявил американскому изданию эксперт в области боевой авиации Королевского Объединенного института оборонных исследований (Великобритания)  Джастин Бронк. Главной причиной отказа от серийного производства перспективного самолета британский эксперт видит в отсутствии финансирования, вызванном, в частности, замораживанием совместной российско-индийской программы по созданию истребителя пятого поколения. Хотя каждый Су-57 стоит 40 миллионов долларов, что в два с лишним раза дешевле американского F-35 Lightning II, такая цена, полагает Бронк, все равно остается высокой по сравнению с другими самолетами, в связи с чем Россия «может просто обвешать свои более старые самолеты большим количеством маскарадных радаров и ракет, поскольку планер Су-57 на самом деле никогда не был невидимым». Издание приходит к выводу, что на фоне российских проектов по модернизации танков, подлодок и ядерного оружия, именно Су-57 стал «первой жертвой бюджетного кризиса», а развитие китайской военной авиации вызывает еще большее отставание России в «мире первоклассных военных». В июле 2018 года вице-премьер правительства России Юрий Борисов заявил, что, поскольку «Су-35 сегодня считается одним из лучших самолетов в мире», то «нет смысла форсировать работы по массовому производству самолета пятого поколения». Опытно-конструкторские работы по Су-57 должны завершиться в 2019 году, тогда же предполагается начать поставки самолетов в войска, планируется, что установочная партия составит 12 машин.\n"
     ]
    }
   ],
   "source": [
    "print(third_cluster_rows.text[0])"
   ]
  },
  {
   "cell_type": "code",
   "execution_count": 24,
   "metadata": {
    "scrolled": true
   },
   "outputs": [],
   "source": [
    "from wordcloud import WordCloud\n",
    "from matplotlib import pyplot\n",
    "%matplotlib inline"
   ]
  },
  {
   "cell_type": "code",
   "execution_count": 25,
   "metadata": {},
   "outputs": [
    {
     "data": {
      "text/plain": [
       "[170, 227, 274, 290, 313, 330, 406, 577, 677, 689]"
      ]
     },
     "execution_count": 25,
     "metadata": {},
     "output_type": "execute_result"
    }
   ],
   "source": [
    "frst_clstr_inds = [ind for ind, label in enumerate(model.labels_) if label == 1]\n",
    "frst_clstr_inds[:10]"
   ]
  },
  {
   "cell_type": "code",
   "execution_count": 26,
   "metadata": {},
   "outputs": [],
   "source": [
    "frst_clstr_rws = lenta_df.iloc[frst_clstr_inds]"
   ]
  },
  {
   "cell_type": "code",
   "execution_count": 27,
   "metadata": {},
   "outputs": [],
   "source": [
    "frst = '\\n'.join(frst_clstr_rws.text)"
   ]
  },
  {
   "cell_type": "code",
   "execution_count": 34,
   "metadata": {},
   "outputs": [],
   "source": [
    "wordcloud = WordCloud(width = 800, height = 800, \n",
    "                background_color ='white', \n",
    "                stopwords = ['на', 'в', 'к', 'и', 'или', 'не', 'об', 'этом', 'это', 'этим', 'как','их', 'ее', 'его',\n",
    "                            'который', 'также', 'однако', 'но', 'так', 'том', 'что'], \n",
    "                min_font_size = 10).generate(frst.lower())"
   ]
  },
  {
   "cell_type": "code",
   "execution_count": 35,
   "metadata": {},
   "outputs": [
    {
     "data": {
      "image/png": "[encoded data removed]",
      "text/plain": [
       "<Figure size 360x360 with 1 Axes>"
      ]
     },
     "metadata": {},
     "output_type": "display_data"
    }
   ],
   "source": [
    "pyplot.figure(figsize = (5, 5), facecolor = None) \n",
    "pyplot.imshow(wordcloud) \n",
    "pyplot.axis(\"off\") \n",
    "pyplot.tight_layout(pad = 0) \n",
    "  \n",
    "pyplot.show() "
   ]
  },
  {
   "cell_type": "markdown",
   "metadata": {},
   "source": [
    "В принципе подтверждается тезис о том, что в этом кластере идет речь о различных операционных системах, платформах и играх."
   ]
  },
  {
   "cell_type": "code",
   "execution_count": 37,
   "metadata": {},
   "outputs": [],
   "source": [
    "scnd_clstr_inds = [ind for ind, label in enumerate(model.labels_) if label == 2]"
   ]
  },
  {
   "cell_type": "code",
   "execution_count": 38,
   "metadata": {},
   "outputs": [],
   "source": [
    "scnd_clstr_rws = lenta_df.iloc[scnd_clstr_inds]"
   ]
  },
  {
   "cell_type": "code",
   "execution_count": 39,
   "metadata": {},
   "outputs": [],
   "source": [
    "scnd = '\\n'.join(scnd_clstr_rws.text)"
   ]
  },
  {
   "cell_type": "code",
   "execution_count": 44,
   "metadata": {},
   "outputs": [],
   "source": [
    "wordcloud = WordCloud(width = 800, height = 800, \n",
    "                background_color ='white', \n",
    "                stopwords = ['на', 'в', 'к', 'и', 'или', 'не', 'об', 'этом', 'это', 'этим', 'как','их', 'ее', 'его',\n",
    "                            'который', 'также', 'однако', 'но', 'так', 'том', 'что', 'из', 'за', 'во', 'при', 'которые',\n",
    "                             'где', 'для', 'когда', 'только', 'после', 'того', 'по', 'он', 'она', 'они', 'уже', 'кроме',\n",
    "                             'него', 'все', 'то', 'чтобы', 'затем', 'этого', 'будет'], \n",
    "                min_font_size = 10).generate(scnd.lower())"
   ]
  },
  {
   "cell_type": "code",
   "execution_count": 45,
   "metadata": {},
   "outputs": [
    {
     "data": {
      "image/png": "[encoded data removed]",
      "text/plain": [
       "<Figure size 360x360 with 1 Axes>"
      ]
     },
     "metadata": {},
     "output_type": "display_data"
    }
   ],
   "source": [
    "pyplot.figure(figsize = (5, 5), facecolor = None) \n",
    "pyplot.imshow(wordcloud) \n",
    "pyplot.axis(\"off\") \n",
    "pyplot.tight_layout(pad = 0) \n",
    "  \n",
    "pyplot.show()"
   ]
  },
  {
   "cell_type": "markdown",
   "metadata": {},
   "source": [
    "По этому облаку слов тема стала чуть понятнее — можно сказать, что речь идет о каких-то случаях, связанных с США."
   ]
  },
  {
   "cell_type": "markdown",
   "metadata": {},
   "source": [
    "#### Пример облака слов из маленького текста:"
   ]
  },
  {
   "cell_type": "code",
   "execution_count": 58,
   "metadata": {},
   "outputs": [],
   "source": [
    "from wordcloud import WordCloud\n",
    "from matplotlib import pyplot\n",
    "%matplotlib inline"
   ]
  },
  {
   "cell_type": "code",
   "execution_count": 92,
   "metadata": {},
   "outputs": [],
   "source": [
    "text = 'Котики сидят на заборе и слушают птиц. Котики!'\n",
    "wordcloud = WordCloud(width = 800, height = 800, \n",
    "                background_color ='white', \n",
    "                stopwords = ['на', 'в', 'к', 'и'], \n",
    "                min_font_size = 10).generate(text.lower()) "
   ]
  },
  {
   "cell_type": "code",
   "execution_count": 93,
   "metadata": {},
   "outputs": [
    {
     "data": {
      "image/png": "[encoded data removed]",
      "text/plain": [
       "<Figure size 360x360 with 1 Axes>"
      ]
     },
     "metadata": {},
     "output_type": "display_data"
    }
   ],
   "source": [
    "pyplot.figure(figsize = (5, 5), facecolor = None) \n",
    "pyplot.imshow(wordcloud) \n",
    "pyplot.axis(\"off\") \n",
    "pyplot.tight_layout(pad = 0) \n",
    "  \n",
    "pyplot.show() "
   ]
  },
  {
   "cell_type": "markdown",
   "metadata": {},
   "source": [
    "А вот что получилось у меня на одном из кластеров ленты:"
   ]
  },
  {
   "cell_type": "code",
   "execution_count": null,
   "metadata": {},
   "outputs": [],
   "source": []
  },
  {
   "cell_type": "markdown",
   "metadata": {},
   "source": [
    "(честно говоря, нуждается в лучшей чистке от стоп-слов)"
   ]
  },
  {
   "cell_type": "code",
   "execution_count": null,
   "metadata": {},
   "outputs": [],
   "source": [
    "wordcloud = WordCloud(width = 800, height = 800, \n",
    "                background_color ='white', \n",
    "                stopwords = ['на', 'в', 'к', 'и'], \n",
    "                min_font_size = 10).generate() "
   ]
  },
  {
   "cell_type": "markdown",
   "metadata": {},
   "source": [
    "## Часть 2: парафраз (5 баллов)\n",
    "\n",
    "\n",
    "### Данные\n",
    "Загрузите данные из конца семинара `words_and_w2v`:"
   ]
  },
  {
   "cell_type": "code",
   "execution_count": 46,
   "metadata": {},
   "outputs": [],
   "source": [
    "with open('paraphrases.xml') as f:\n",
    "    data = f.read()"
   ]
  },
  {
   "cell_type": "markdown",
   "metadata": {},
   "source": [
    "Как это выглядит:"
   ]
  },
  {
   "cell_type": "code",
   "execution_count": 47,
   "metadata": {},
   "outputs": [
    {
     "name": "stdout",
     "output_type": "stream",
     "text": [
      "      <value name=\"id\">25577</value>\r\n",
      "      <value name=\"id_1\">34584</value>\r\n",
      "      <value name=\"id_2\">34722</value>\r\n",
      "      <value name=\"text_1\">9 мая метрополитен Петербурга будет работать круглосуточно</value>\r\n",
      "      <value name=\"text_2\">Мартынов: комендантский час в Донецке 9 мая будет отменен</value>\r\n",
      "      <value name=\"jaccard\">0.46188021535170065</value>\r\n",
      "      <value name=\"class\">-1</value>\r\n",
      "    </paraphrase>\r\n",
      "  </corpus>\r\n",
      "</data>\r\n"
     ]
    }
   ],
   "source": [
    "!tail paraphrases.xml"
   ]
  },
  {
   "cell_type": "markdown",
   "metadata": {},
   "source": [
    "### Создаём датасет для обучения"
   ]
  },
  {
   "cell_type": "code",
   "execution_count": 48,
   "metadata": {},
   "outputs": [],
   "source": [
    "from xml.etree import ElementTree"
   ]
  },
  {
   "cell_type": "code",
   "execution_count": 49,
   "metadata": {},
   "outputs": [],
   "source": [
    "root = ElementTree.XML(data)"
   ]
  },
  {
   "cell_type": "code",
   "execution_count": 50,
   "metadata": {},
   "outputs": [],
   "source": [
    "par_data = {'text1': [], 'text2': [], 'class': []}\n",
    "for par in root[1]:\n",
    "    par_data['text1'].append(par[3].text)\n",
    "    par_data['text2'].append(par[4].text)\n",
    "    par_data['class'].append(int(par[6].text))"
   ]
  },
  {
   "cell_type": "code",
   "execution_count": 51,
   "metadata": {},
   "outputs": [
    {
     "data": {
      "text/html": [
       "<div>\n",
       "<style scoped>\n",
       "    .dataframe tbody tr th:only-of-type {\n",
       "        vertical-align: middle;\n",
       "    }\n",
       "\n",
       "    .dataframe tbody tr th {\n",
       "        vertical-align: top;\n",
       "    }\n",
       "\n",
       "    .dataframe thead th {\n",
       "        text-align: right;\n",
       "    }\n",
       "</style>\n",
       "<table border=\"1\" class=\"dataframe\">\n",
       "  <thead>\n",
       "    <tr style=\"text-align: right;\">\n",
       "      <th></th>\n",
       "      <th>text1</th>\n",
       "      <th>text2</th>\n",
       "      <th>class</th>\n",
       "    </tr>\n",
       "  </thead>\n",
       "  <tbody>\n",
       "    <tr>\n",
       "      <th>0</th>\n",
       "      <td>Полицейским разрешат стрелять на поражение по ...</td>\n",
       "      <td>Полиции могут разрешить стрелять по хулиганам ...</td>\n",
       "      <td>0</td>\n",
       "    </tr>\n",
       "    <tr>\n",
       "      <th>1</th>\n",
       "      <td>Право полицейских на проникновение в жилище ре...</td>\n",
       "      <td>Правила внесудебного проникновения полицейских...</td>\n",
       "      <td>0</td>\n",
       "    </tr>\n",
       "    <tr>\n",
       "      <th>2</th>\n",
       "      <td>Президент Египта ввел чрезвычайное положение в...</td>\n",
       "      <td>Власти Египта угрожают ввести в стране чрезвыч...</td>\n",
       "      <td>0</td>\n",
       "    </tr>\n",
       "    <tr>\n",
       "      <th>3</th>\n",
       "      <td>Вернувшихся из Сирии россиян волнует вопрос тр...</td>\n",
       "      <td>Самолеты МЧС вывезут россиян из разрушенной Си...</td>\n",
       "      <td>-1</td>\n",
       "    </tr>\n",
       "    <tr>\n",
       "      <th>4</th>\n",
       "      <td>В Москву из Сирии вернулись 2 самолета МЧС с р...</td>\n",
       "      <td>Самолеты МЧС вывезут россиян из разрушенной Си...</td>\n",
       "      <td>0</td>\n",
       "    </tr>\n",
       "    <tr>\n",
       "      <th>5</th>\n",
       "      <td>Приставы соберут отпечатки пальцев российских ...</td>\n",
       "      <td>Приставы снимут отпечатки пальцев у злостных н...</td>\n",
       "      <td>1</td>\n",
       "    </tr>\n",
       "    <tr>\n",
       "      <th>6</th>\n",
       "      <td>На саратовского дебошира с борта самолета Моск...</td>\n",
       "      <td>Саратовский дебошир отказывается возвращаться ...</td>\n",
       "      <td>-1</td>\n",
       "    </tr>\n",
       "    <tr>\n",
       "      <th>7</th>\n",
       "      <td>ЦИК хочет отказаться от электронной системы по...</td>\n",
       "      <td>ЦИК может отказаться от электронных средств по...</td>\n",
       "      <td>0</td>\n",
       "    </tr>\n",
       "    <tr>\n",
       "      <th>8</th>\n",
       "      <td>Суд Петербурга оставил на потом дело о гибели ...</td>\n",
       "      <td>Лондонский Гайд-парк - это не место для митинг...</td>\n",
       "      <td>-1</td>\n",
       "    </tr>\n",
       "    <tr>\n",
       "      <th>9</th>\n",
       "      <td>Страны ОПЕК сократили добычу нефти на 1 млн ба...</td>\n",
       "      <td>Обама продлил полномочия НАСА по сотрудничеств...</td>\n",
       "      <td>-1</td>\n",
       "    </tr>\n",
       "  </tbody>\n",
       "</table>\n",
       "</div>"
      ],
      "text/plain": [
       "                                               text1  \\\n",
       "0  Полицейским разрешат стрелять на поражение по ...   \n",
       "1  Право полицейских на проникновение в жилище ре...   \n",
       "2  Президент Египта ввел чрезвычайное положение в...   \n",
       "3  Вернувшихся из Сирии россиян волнует вопрос тр...   \n",
       "4  В Москву из Сирии вернулись 2 самолета МЧС с р...   \n",
       "5  Приставы соберут отпечатки пальцев российских ...   \n",
       "6  На саратовского дебошира с борта самолета Моск...   \n",
       "7  ЦИК хочет отказаться от электронной системы по...   \n",
       "8  Суд Петербурга оставил на потом дело о гибели ...   \n",
       "9  Страны ОПЕК сократили добычу нефти на 1 млн ба...   \n",
       "\n",
       "                                               text2  class  \n",
       "0  Полиции могут разрешить стрелять по хулиганам ...      0  \n",
       "1  Правила внесудебного проникновения полицейских...      0  \n",
       "2  Власти Египта угрожают ввести в стране чрезвыч...      0  \n",
       "3  Самолеты МЧС вывезут россиян из разрушенной Си...     -1  \n",
       "4  Самолеты МЧС вывезут россиян из разрушенной Си...      0  \n",
       "5  Приставы снимут отпечатки пальцев у злостных н...      1  \n",
       "6  Саратовский дебошир отказывается возвращаться ...     -1  \n",
       "7  ЦИК может отказаться от электронных средств по...      0  \n",
       "8  Лондонский Гайд-парк - это не место для митинг...     -1  \n",
       "9  Обама продлил полномочия НАСА по сотрудничеств...     -1  "
      ]
     },
     "execution_count": 51,
     "metadata": {},
     "output_type": "execute_result"
    }
   ],
   "source": [
    "parphrase_df = pd.DataFrame(par_data)\n",
    "parphrase_df.head(10)"
   ]
  },
  {
   "cell_type": "markdown",
   "metadata": {},
   "source": [
    "### Задание\n",
    "* как минимум 4 способами (векторизация + расстояние) посчитайте расстояние между каждой парой предложений (из `text1` и `text2`)\n",
    "* составьте из этих расстояний признаки для обучения (матрицу признаков, или список списков признаков); должно получиться как-то так (строки -- пары предложений):\n",
    "\n",
    "```python\n",
    "array([[0.7, 1.2, 0.1, 1.],\n",
    "       [0.8, 1.1, 0.3, 1.],\n",
    "       ...\n",
    "       [0.9, 1.3, 0.4, 1.]])\n",
    "```\n",
    "* на этих признаках обучите любой классификатор на парафраз (предсказывать столбец `class`)\n",
    "\n",
    "Идеи, как можно получить вектора:\n",
    "* `CountVectorizer` (и поиграться с аргументами)\n",
    "* `TfidfVectorizer` (и поиграться с аргументами)\n",
    "* `CountVectorizer` + `TruncatedSVD` (и поиграться с аргументами, sure)\n",
    "* ...\n",
    "* суммировать word2vec для всех слов на эмбеддингах тайги (которые у вас есть)\n",
    "* суммировать word2vec для всех слов на [других эмбеддингах](http://vectors.nlpl.eu/repository/)\n",
    "\n",
    "Как можно посчитать расстояние между векторами:\n",
    "* косинусное расстояние\n",
    "* евклидово расстояние\n",
    "\n",
    "Можно добавлять свои способы векторизации / подсчёта расстояния."
   ]
  },
  {
   "cell_type": "code",
   "execution_count": 52,
   "metadata": {},
   "outputs": [
    {
     "data": {
      "text/plain": [
       "['DictionaryLearning',\n",
       " 'FactorAnalysis',\n",
       " 'FastICA',\n",
       " 'IncrementalPCA',\n",
       " 'KernelPCA',\n",
       " 'LatentDirichletAllocation',\n",
       " 'MiniBatchDictionaryLearning',\n",
       " 'MiniBatchSparsePCA',\n",
       " 'NMF',\n",
       " 'PCA',\n",
       " 'RandomizedPCA',\n",
       " 'SparseCoder',\n",
       " 'SparsePCA',\n",
       " 'TruncatedSVD']"
      ]
     },
     "execution_count": 52,
     "metadata": {},
     "output_type": "execute_result"
    }
   ],
   "source": [
    "from sklearn import decomposition\n",
    "[item for item in dir(decomposition) if item[0].isupper()] # все классы в модуле decomposition"
   ]
  },
  {
   "cell_type": "code",
   "execution_count": 53,
   "metadata": {},
   "outputs": [
    {
     "name": "stdout",
     "output_type": "stream",
     "text": [
      "Help on function distance_metrics in module sklearn.metrics.pairwise:\n",
      "\n",
      "distance_metrics()\n",
      "    Valid metrics for pairwise_distances.\n",
      "    \n",
      "    This function simply returns the valid pairwise distance metrics.\n",
      "    It exists to allow for a description of the mapping for\n",
      "    each of the valid strings.\n",
      "    \n",
      "    The valid distance metrics, and the function they map to, are:\n",
      "    \n",
      "    ============     ====================================\n",
      "    metric           Function\n",
      "    ============     ====================================\n",
      "    'cityblock'      metrics.pairwise.manhattan_distances\n",
      "    'cosine'         metrics.pairwise.cosine_distances\n",
      "    'euclidean'      metrics.pairwise.euclidean_distances\n",
      "    'l1'             metrics.pairwise.manhattan_distances\n",
      "    'l2'             metrics.pairwise.euclidean_distances\n",
      "    'manhattan'      metrics.pairwise.manhattan_distances\n",
      "    ============     ====================================\n",
      "    \n",
      "    Read more in the :ref:`User Guide <metrics>`.\n",
      "\n"
     ]
    }
   ],
   "source": [
    "from sklearn.metrics.pairwise import distance_metrics\n",
    "help(distance_metrics)"
   ]
  },
  {
   "cell_type": "markdown",
   "metadata": {},
   "source": [
    "Пример подсчёта евклидова расстояния на документах, векторизованных `CountVectorizer`."
   ]
  },
  {
   "cell_type": "code",
   "execution_count": 54,
   "metadata": {},
   "outputs": [],
   "source": [
    "from sklearn.metrics.pairwise import euclidean_distances"
   ]
  },
  {
   "cell_type": "code",
   "execution_count": 55,
   "metadata": {},
   "outputs": [
    {
     "data": {
      "text/plain": [
       "CountVectorizer(analyzer='word', binary=False, decode_error='strict',\n",
       "        dtype=<class 'numpy.int64'>, encoding='utf-8', input='content',\n",
       "        lowercase=True, max_df=1.0, max_features=None, min_df=3,\n",
       "        ngram_range=(1, 1), preprocessor=None, stop_words=None,\n",
       "        strip_accents=None, token_pattern='(?u)\\\\b\\\\w\\\\w+\\\\b',\n",
       "        tokenizer=None, vocabulary=None)"
      ]
     },
     "execution_count": 55,
     "metadata": {},
     "output_type": "execute_result"
    }
   ],
   "source": [
    "vectorizer = CountVectorizer(min_df=3)\n",
    "vectorizer.fit(parphrase_df.text1 + parphrase_df.text2) # фитим на ВСЕХ данных"
   ]
  },
  {
   "cell_type": "code",
   "execution_count": 56,
   "metadata": {},
   "outputs": [
    {
     "name": "stdout",
     "output_type": "stream",
     "text": [
      "Полицейским разрешат стрелять на поражение по гражданам с травматикой.\n",
      "Полиции могут разрешить стрелять по хулиганам с травматикой.\n",
      "0\n"
     ]
    }
   ],
   "source": [
    "print(parphrase_df.text1[0])\n",
    "print(parphrase_df.text2[0])\n",
    "print(parphrase_df['class'][0])"
   ]
  },
  {
   "cell_type": "code",
   "execution_count": 57,
   "metadata": {},
   "outputs": [],
   "source": [
    "sent1 = vectorizer.transform([parphrase_df.text1[0]])\n",
    "sent2 = vectorizer.transform([parphrase_df.text2[0]])"
   ]
  },
  {
   "cell_type": "code",
   "execution_count": 58,
   "metadata": {},
   "outputs": [
    {
     "data": {
      "text/plain": [
       "<1x5690 sparse matrix of type '<class 'numpy.int64'>'\n",
       "\twith 5 stored elements in Compressed Sparse Row format>"
      ]
     },
     "execution_count": 58,
     "metadata": {},
     "output_type": "execute_result"
    }
   ],
   "source": [
    "sent1 # одна строка (предложение), 5690 столбцов (слов)"
   ]
  },
  {
   "cell_type": "code",
   "execution_count": 66,
   "metadata": {},
   "outputs": [
    {
     "data": {
      "text/plain": [
       "2.6457513110645907"
      ]
     },
     "execution_count": 66,
     "metadata": {},
     "output_type": "execute_result"
    }
   ],
   "source": [
    "euclidean_distances(sent1, sent2)[0][0]"
   ]
  },
  {
   "cell_type": "markdown",
   "metadata": {},
   "source": [
    "#### Удачного кодинга :)"
   ]
  },
  {
   "cell_type": "code",
   "execution_count": 60,
   "metadata": {},
   "outputs": [
    {
     "data": {
      "text/plain": [
       "7227"
      ]
     },
     "execution_count": 60,
     "metadata": {},
     "output_type": "execute_result"
    }
   ],
   "source": [
    "len(parphrase_df)"
   ]
  },
  {
   "cell_type": "code",
   "execution_count": 62,
   "metadata": {},
   "outputs": [],
   "source": [
    "eucs = []\n",
    "for i in range(7227):\n",
    "    sent1 = vectorizer.transform([parphrase_df.text1[i]])\n",
    "    sent2 = vectorizer.transform([parphrase_df.text2[i]])\n",
    "    eucs.append(euclidean_distances(sent1, sent2)[0][0])"
   ]
  },
  {
   "cell_type": "code",
   "execution_count": 68,
   "metadata": {},
   "outputs": [],
   "source": [
    "def tokenize(msg):\n",
    "    msg = re.sub('[!\"?/\\\\().:;,-]', '', msg).lower()\n",
    "    msg = [w for w in word_tokenize(msg) if not w in stopset]\n",
    "    return msg\n",
    "tfidf = TfidfVectorizer(tokenizer=tokenize)"
   ]
  },
  {
   "cell_type": "code",
   "execution_count": 70,
   "metadata": {},
   "outputs": [],
   "source": [
    "from sklearn.metrics.pairwise import manhattan_distances"
   ]
  },
  {
   "cell_type": "code",
   "execution_count": 72,
   "metadata": {},
   "outputs": [
    {
     "data": {
      "text/plain": [
       "TfidfVectorizer(analyzer='word', binary=False, decode_error='strict',\n",
       "        dtype=<class 'numpy.int64'>, encoding='utf-8', input='content',\n",
       "        lowercase=True, max_df=1.0, max_features=None, min_df=1,\n",
       "        ngram_range=(1, 1), norm='l2', preprocessor=None, smooth_idf=True,\n",
       "        stop_words=None, strip_accents=None, sublinear_tf=False,\n",
       "        token_pattern='(?u)\\\\b\\\\w\\\\w+\\\\b',\n",
       "        tokenizer=<function tokenize at 0x1a6738a8c8>, use_idf=True,\n",
       "        vocabulary=None)"
      ]
     },
     "execution_count": 72,
     "metadata": {},
     "output_type": "execute_result"
    }
   ],
   "source": [
    "tfidf.fit(parphrase_df.text1 + parphrase_df.text2)"
   ]
  },
  {
   "cell_type": "code",
   "execution_count": 73,
   "metadata": {},
   "outputs": [],
   "source": [
    "man = []\n",
    "for i in range(7227):\n",
    "    sent1 = tfidf.transform([parphrase_df.text1[i]])\n",
    "    sent2 = tfidf.transform([parphrase_df.text2[i]])\n",
    "    man.append(manhattan_distances(sent1, sent2)[0][0])"
   ]
  },
  {
   "cell_type": "code",
   "execution_count": 75,
   "metadata": {},
   "outputs": [],
   "source": [
    "from sklearn.metrics.pairwise import cosine_distances"
   ]
  },
  {
   "cell_type": "code",
   "execution_count": 76,
   "metadata": {},
   "outputs": [],
   "source": [
    "cos = []\n",
    "for i in range(7227):\n",
    "    sent1 = vectorizer.transform([parphrase_df.text1[i]])\n",
    "    sent2 = vectorizer.transform([parphrase_df.text2[i]])\n",
    "    cos.append(cosine_distances(sent1, sent2)[0][0])"
   ]
  },
  {
   "cell_type": "code",
   "execution_count": 77,
   "metadata": {},
   "outputs": [],
   "source": [
    "eucs2 = []\n",
    "for i in range(7227):\n",
    "    sent1 = tfidf.transform([parphrase_df.text1[i]])\n",
    "    sent2 = tfidf.transform([parphrase_df.text2[i]])\n",
    "    eucs2.append(euclidean_distances(sent1, sent2)[0][0])"
   ]
  },
  {
   "cell_type": "code",
   "execution_count": 78,
   "metadata": {},
   "outputs": [],
   "source": [
    "from sklearn.naive_bayes import MultinomialNB\n",
    "from sklearn.model_selection import train_test_split"
   ]
  },
  {
   "cell_type": "code",
   "execution_count": 80,
   "metadata": {},
   "outputs": [],
   "source": [
    "classifier = MultinomialNB()"
   ]
  },
  {
   "cell_type": "code",
   "execution_count": 140,
   "metadata": {
    "scrolled": true
   },
   "outputs": [],
   "source": [
    "X_train, X_test, y_train, y_test = train_test_split(newz, parphrase_df['class'])"
   ]
  },
  {
   "cell_type": "code",
   "execution_count": 141,
   "metadata": {},
   "outputs": [],
   "source": [
    "clf = classifier.fit(X_train, y_train)"
   ]
  },
  {
   "cell_type": "code",
   "execution_count": 139,
   "metadata": {},
   "outputs": [],
   "source": [
    "zipped = zip(eucs, man, cos, eucs2)\n",
    "newz = list(zipped)"
   ]
  },
  {
   "cell_type": "code",
   "execution_count": 142,
   "metadata": {},
   "outputs": [],
   "source": [
    "from sklearn.metrics import classification_report"
   ]
  },
  {
   "cell_type": "code",
   "execution_count": 143,
   "metadata": {},
   "outputs": [
    {
     "name": "stdout",
     "output_type": "stream",
     "text": [
      "             precision    recall  f1-score   support\n",
      "\n",
      "         -1       1.00      0.00      0.01       647\n",
      "          0       0.42      1.00      0.59       751\n",
      "          1       0.00      0.00      0.00       409\n",
      "\n",
      "avg / total       0.53      0.42      0.25      1807\n",
      "\n"
     ]
    },
    {
     "name": "stderr",
     "output_type": "stream",
     "text": [
      "/anaconda2/envs/python3/lib/python3.6/site-packages/sklearn/metrics/classification.py:1135: UndefinedMetricWarning: Precision and F-score are ill-defined and being set to 0.0 in labels with no predicted samples.\n",
      "  'precision', 'predicted', average, warn_for)\n"
     ]
    }
   ],
   "source": [
    "print(classification_report(y_test, clf.predict(X_test)))"
   ]
  },
  {
   "cell_type": "code",
   "execution_count": 144,
   "metadata": {},
   "outputs": [],
   "source": [
    "from sklearn.linear_model import LogisticRegression"
   ]
  },
  {
   "cell_type": "code",
   "execution_count": 145,
   "metadata": {},
   "outputs": [],
   "source": [
    "lr = LogisticRegression(random_state=42)\n",
    "clf = lr.fit(X_train, y_train)"
   ]
  },
  {
   "cell_type": "code",
   "execution_count": 146,
   "metadata": {},
   "outputs": [
    {
     "name": "stdout",
     "output_type": "stream",
     "text": [
      "             precision    recall  f1-score   support\n",
      "\n",
      "         -1       0.64      0.74      0.68       647\n",
      "          0       0.52      0.61      0.56       751\n",
      "          1       0.55      0.23      0.33       409\n",
      "\n",
      "avg / total       0.57      0.57      0.55      1807\n",
      "\n"
     ]
    }
   ],
   "source": [
    "print(classification_report(y_test, clf.predict(X_test)))"
   ]
  }
 ],
 "metadata": {
  "kernelspec": {
   "display_name": "Python 3",
   "language": "python",
   "name": "python3"
  },
  "language_info": {
   "codemirror_mode": {
    "name": "ipython",
    "version": 3
   },
   "file_extension": ".py",
   "mimetype": "text/x-python",
   "name": "python",
   "nbconvert_exporter": "python",
   "pygments_lexer": "ipython3",
   "version": "3.6.5"
  }
 },
 "nbformat": 4,
 "nbformat_minor": 2
}
