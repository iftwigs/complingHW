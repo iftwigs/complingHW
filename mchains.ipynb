{
 "cells": [
  {
   "cell_type": "markdown",
   "metadata": {},
   "source": [
    "# Марковские цепи\n",
    "\n",
    "Вот кусочек текста для примера."
   ]
  },
  {
   "cell_type": "code",
   "execution_count": 4,
   "metadata": {},
   "outputs": [],
   "source": [
    "corpus = \"\"\"\n",
    "I wanna sleep and play a game.\n",
    "I wanna play with you.\n",
    "You wanna skate because it is fun.\n",
    "You wanna ride a bike with me.\n",
    "You want to sleep in my bed.\n",
    "You want to play with me.\n",
    "You wanna play a game and sleep.\n",
    "You want to ride a scooter because it is fun.\n",
    "\"\"\""
   ]
  },
  {
   "cell_type": "markdown",
   "metadata": {},
   "source": [
    "## Готовая имплементация марковской цепи\n",
    "\n",
    "https://github.com/jsvine/markovify\n",
    "\n",
    "Устанавливаем:"
   ]
  },
  {
   "cell_type": "code",
   "execution_count": 2,
   "metadata": {},
   "outputs": [
    {
     "name": "stdout",
     "output_type": "stream",
     "text": [
      "Collecting markovify\n",
      "  Downloading https://files.pythonhosted.org/packages/94/b2/b4ce1e461bb3482b1fd63328a2097aed5917cdfa0dbfe9492a84ea46e2ab/markovify-0.7.1.tar.gz\n",
      "Collecting unidecode (from markovify)\n",
      "\u001b[?25l  Downloading https://files.pythonhosted.org/packages/31/39/53096f9217b057cb049fe872b7fc7ce799a1a89b76cf917d9639e7a558b5/Unidecode-1.0.23-py2.py3-none-any.whl (237kB)\n",
      "\u001b[K    100% |████████████████████████████████| 245kB 254kB/s ta 0:00:01\n",
      "\u001b[?25hBuilding wheels for collected packages: markovify\n",
      "  Running setup.py bdist_wheel for markovify ... \u001b[?25ldone\n",
      "\u001b[?25h  Stored in directory: /Users/macbookpro/Library/Caches/pip/wheels/66/fe/5b/07257dd2401d9835447a0f0223f967c998c153404d32612253\n",
      "Successfully built markovify\n",
      "Installing collected packages: unidecode, markovify\n",
      "Successfully installed markovify-0.7.1 unidecode-1.0.23\n"
     ]
    }
   ],
   "source": [
    "!pip install markovify"
   ]
  },
  {
   "cell_type": "markdown",
   "metadata": {},
   "source": [
    "Импортируем:"
   ]
  },
  {
   "cell_type": "code",
   "execution_count": 1,
   "metadata": {},
   "outputs": [],
   "source": [
    "import markovify"
   ]
  },
  {
   "cell_type": "markdown",
   "metadata": {},
   "source": [
    "Инициализируем класс языковой модели:"
   ]
  },
  {
   "cell_type": "code",
   "execution_count": 5,
   "metadata": {},
   "outputs": [],
   "source": [
    "example_lang_model = markovify.Text(corpus)"
   ]
  },
  {
   "cell_type": "markdown",
   "metadata": {},
   "source": [
    "Порождаем текст:"
   ]
  },
  {
   "cell_type": "code",
   "execution_count": 5,
   "metadata": {},
   "outputs": [
    {
     "name": "stdout",
     "output_type": "stream",
     "text": [
      "You wanna play with me.\n",
      "\n",
      "I wanna play a game.\n",
      "\n",
      "I wanna play a game.\n",
      "\n",
      "I wanna play a game.\n",
      "\n",
      "You want to ride a bike with me.\n",
      "\n"
     ]
    }
   ],
   "source": [
    "for i in range(5):\n",
    "    print(example_lang_model.make_sentence())\n",
    "    print()"
   ]
  },
  {
   "cell_type": "markdown",
   "metadata": {},
   "source": [
    "### Задание 1\n",
    "\n",
    "Загрузите большой кусочек текста на ваш выбор (сохраните в виде файла, прочитайте, подайте модели). Породите некторое количество предложений."
   ]
  },
  {
   "cell_type": "code",
   "execution_count": 9,
   "metadata": {},
   "outputs": [
    {
     "name": "stdout",
     "output_type": "stream",
     "text": [
      "Это уж точно ни к чему: люди тебя все в порядке, а ты молча глядишь ему вслед… Можешь ничего не скажешь… Я и сам рассмеялся от неожиданности.\n",
      "\n",
      "Моя совесть была чиста: я действительно успел научиться, так это на Куруша, потом на даму, потом опять на Куруша, нашу мудрую птицу.\n",
      "\n",
      "После нескольких дней в дороге я, признаться, ожидал, что все в порядке, что сможет последовать моему совету.\n",
      "\n",
      "Я им не было обидно.\n",
      "\n",
      "– Так что Бубута приведет к нему бутылочку с «Темной сутью». Возвращаясь на службу, не забудет ни буквы из занудной биографии сэра Гламмы Эралги, потом такая женушка, как леди Меламори, если еще проснутся! – они к тому моменту, как я добывал из-под стола пирог.\n",
      "\n"
     ]
    }
   ],
   "source": [
    "text = open('chuzhak.txt', 'r')\n",
    "tread = text.read()\n",
    "my_lang_model = markovify.Text(tread)\n",
    "for i in range(5):\n",
    "    print(my_lang_model.make_sentence())\n",
    "    print()"
   ]
  },
  {
   "cell_type": "markdown",
   "metadata": {},
   "source": [
    "## Напишем свой генератор с nltk"
   ]
  },
  {
   "cell_type": "code",
   "execution_count": 10,
   "metadata": {},
   "outputs": [],
   "source": [
    "from nltk.tokenize import word_tokenize"
   ]
  },
  {
   "cell_type": "code",
   "execution_count": 11,
   "metadata": {},
   "outputs": [
    {
     "data": {
      "text/plain": [
       "['i', 'wan', 'na', 'sleep', 'and', 'play', 'a', 'game', '.', 'i']"
      ]
     },
     "execution_count": 11,
     "metadata": {},
     "output_type": "execute_result"
    }
   ],
   "source": [
    "tokens = word_tokenize(corpus.lower())\n",
    "tokens[:10]"
   ]
  },
  {
   "cell_type": "markdown",
   "metadata": {},
   "source": [
    "### FreqDist\n",
    "\n",
    "`FreqDist` -- это словарь, где ключи -- элементы последовательности, а значения -- частотности. "
   ]
  },
  {
   "cell_type": "code",
   "execution_count": 7,
   "metadata": {},
   "outputs": [],
   "source": [
    "from nltk import FreqDist"
   ]
  },
  {
   "cell_type": "code",
   "execution_count": 12,
   "metadata": {},
   "outputs": [],
   "source": [
    "frequency_distribution = FreqDist(tokens)"
   ]
  },
  {
   "cell_type": "code",
   "execution_count": 61,
   "metadata": {},
   "outputs": [
    {
     "data": {
      "text/plain": [
       "dict_keys(['want', 'sleep', 'na', '.', 'with', 'to', 'ride', 'bike', 'it', 'because', 'scooter', 'game', 'fun', 'my', 'wan', 'bed', 'skate', 'in', 'is', 'you', 'play', 'i', 'and', 'me', 'a'])"
      ]
     },
     "execution_count": 61,
     "metadata": {},
     "output_type": "execute_result"
    }
   ],
   "source": [
    "frequency_distribution.keys()"
   ]
  },
  {
   "cell_type": "code",
   "execution_count": 62,
   "metadata": {},
   "outputs": [
    {
     "data": {
      "text/plain": [
       "3"
      ]
     },
     "execution_count": 62,
     "metadata": {},
     "output_type": "execute_result"
    }
   ],
   "source": [
    "frequency_distribution['want']"
   ]
  },
  {
   "cell_type": "code",
   "execution_count": 64,
   "metadata": {},
   "outputs": [
    {
     "data": {
      "text/plain": [
       "2"
      ]
     },
     "execution_count": 64,
     "metadata": {},
     "output_type": "execute_result"
    }
   ],
   "source": [
    "frequency_distribution['i']"
   ]
  },
  {
   "cell_type": "code",
   "execution_count": 18,
   "metadata": {},
   "outputs": [],
   "source": [
    "from nltk import bigrams"
   ]
  },
  {
   "cell_type": "code",
   "execution_count": 21,
   "metadata": {},
   "outputs": [],
   "source": [
    "frequency_distribution = FreqDist(bigrams(tokens))"
   ]
  },
  {
   "cell_type": "code",
   "execution_count": 22,
   "metadata": {},
   "outputs": [
    {
     "data": {
      "text/plain": [
       "FreqDist({('.', 'i'): 1,\n",
       "          ('.', 'you'): 6,\n",
       "          ('a', 'bike'): 1,\n",
       "          ('a', 'game'): 2,\n",
       "          ('a', 'scooter'): 1,\n",
       "          ('and', 'play'): 1,\n",
       "          ('and', 'sleep'): 1,\n",
       "          ('because', 'it'): 2,\n",
       "          ('bed', '.'): 1,\n",
       "          ('bike', 'with'): 1,\n",
       "          ('fun', '.'): 2,\n",
       "          ('game', '.'): 1,\n",
       "          ('game', 'and'): 1,\n",
       "          ('i', 'wan'): 2,\n",
       "          ('in', 'my'): 1,\n",
       "          ('is', 'fun'): 2,\n",
       "          ('it', 'is'): 2,\n",
       "          ('me', '.'): 2,\n",
       "          ('my', 'bed'): 1,\n",
       "          ('na', 'play'): 2,\n",
       "          ('na', 'ride'): 1,\n",
       "          ('na', 'skate'): 1,\n",
       "          ('na', 'sleep'): 1,\n",
       "          ('play', 'a'): 2,\n",
       "          ('play', 'with'): 2,\n",
       "          ('ride', 'a'): 2,\n",
       "          ('scooter', 'because'): 1,\n",
       "          ('skate', 'because'): 1,\n",
       "          ('sleep', '.'): 1,\n",
       "          ('sleep', 'and'): 1,\n",
       "          ('sleep', 'in'): 1,\n",
       "          ('to', 'play'): 1,\n",
       "          ('to', 'ride'): 1,\n",
       "          ('to', 'sleep'): 1,\n",
       "          ('wan', 'na'): 5,\n",
       "          ('want', 'to'): 3,\n",
       "          ('with', 'me'): 2,\n",
       "          ('with', 'you'): 1,\n",
       "          ('you', '.'): 1,\n",
       "          ('you', 'wan'): 3,\n",
       "          ('you', 'want'): 3})"
      ]
     },
     "execution_count": 22,
     "metadata": {},
     "output_type": "execute_result"
    }
   ],
   "source": [
    "frequency_distribution"
   ]
  },
  {
   "cell_type": "code",
   "execution_count": 41,
   "metadata": {},
   "outputs": [
    {
     "data": {
      "text/plain": [
       "dict_keys([('game', '.'), ('sleep', 'and'), ('my', 'bed'), ('fun', '.'), ('with', 'me'), ('skate', 'because'), ('na', 'sleep'), ('na', 'ride'), ('na', 'skate'), ('and', 'play'), ('it', 'is'), ('sleep', '.'), ('is', 'fun'), ('and', 'sleep'), ('sleep', 'in'), ('play', 'a'), ('to', 'play'), ('.', 'i'), ('me', '.'), ('scooter', 'because'), ('play', 'with'), ('a', 'bike'), ('na', 'play'), ('because', 'it'), ('wan', 'na'), ('want', 'to'), ('you', 'want'), ('bike', 'with'), ('to', 'sleep'), ('you', 'wan'), ('a', 'game'), ('i', 'wan'), ('.', 'you'), ('in', 'my'), ('game', 'and'), ('bed', '.'), ('to', 'ride'), ('with', 'you'), ('a', 'scooter'), ('ride', 'a'), ('you', '.')])"
      ]
     },
     "execution_count": 41,
     "metadata": {},
     "output_type": "execute_result"
    }
   ],
   "source": [
    "frequency_distribution.keys()"
   ]
  },
  {
   "cell_type": "markdown",
   "metadata": {},
   "source": [
    "### Условная вероятность"
   ]
  },
  {
   "cell_type": "code",
   "execution_count": 27,
   "metadata": {},
   "outputs": [],
   "source": [
    "from nltk import MLEProbDist\n",
    "from nltk import ConditionalProbDist"
   ]
  },
  {
   "cell_type": "code",
   "execution_count": 28,
   "metadata": {},
   "outputs": [],
   "source": [
    "cprob = ConditionalProbDist(frequency_distribution, MLEProbDist)"
   ]
  },
  {
   "cell_type": "code",
   "execution_count": 38,
   "metadata": {},
   "outputs": [],
   "source": [
    "# cprob['you'].generate()"
   ]
  },
  {
   "cell_type": "markdown",
   "metadata": {},
   "source": [
    "### Задание 2\n",
    "\n",
    "Напишите код для генерации нового предложения фиксированной длины (например, 10) и начинающегося с определённого слова."
   ]
  },
  {
   "cell_type": "code",
   "execution_count": null,
   "metadata": {},
   "outputs": [],
   "source": []
  }
 ],
 "metadata": {
  "kernelspec": {
   "display_name": "Python 3",
   "language": "python",
   "name": "python3"
  },
  "language_info": {
   "codemirror_mode": {
    "name": "ipython",
    "version": 3
   },
   "file_extension": ".py",
   "mimetype": "text/x-python",
   "name": "python",
   "nbconvert_exporter": "python",
   "pygments_lexer": "ipython3",
   "version": "3.6.5"
  }
 },
 "nbformat": 4,
 "nbformat_minor": 2
}
